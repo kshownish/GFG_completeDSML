{
 "cells": [
  {
   "cell_type": "code",
   "execution_count": 9,
   "id": "db6fdfc4",
   "metadata": {},
   "outputs": [],
   "source": [
    "#normal list creation\n",
    "lst = ['kshownish', 'parachikapu','20','CSE']"
   ]
  },
  {
   "cell_type": "code",
   "execution_count": 10,
   "id": "61fa5854",
   "metadata": {},
   "outputs": [
    {
     "name": "stdout",
     "output_type": "stream",
     "text": [
      "['kshownish', 'parachikapu', '20', 'CSE']\n"
     ]
    }
   ],
   "source": [
    "#printing a list\n",
    "print(lst)"
   ]
  },
  {
   "cell_type": "code",
   "execution_count": 11,
   "id": "705259a1",
   "metadata": {},
   "outputs": [
    {
     "name": "stdout",
     "output_type": "stream",
     "text": [
      "kshownish\n"
     ]
    }
   ],
   "source": [
    "#printing first element from list\n",
    "print(lst[0])"
   ]
  },
  {
   "cell_type": "code",
   "execution_count": 12,
   "id": "6e8ccd73",
   "metadata": {},
   "outputs": [],
   "source": [
    "#changing the contnt of list\n",
    "lst[2] = '19'"
   ]
  },
  {
   "cell_type": "code",
   "execution_count": 13,
   "id": "f580f5f9",
   "metadata": {},
   "outputs": [
    {
     "name": "stdout",
     "output_type": "stream",
     "text": [
      "['kshownish', 'parachikapu', '19', 'CSE']\n"
     ]
    }
   ],
   "source": [
    "#printing the updated list\n",
    "print(lst)"
   ]
  },
  {
   "cell_type": "code",
   "execution_count": 15,
   "id": "2bdd7e99",
   "metadata": {},
   "outputs": [],
   "source": [
    "#updating the list with slice of a list\n",
    "list = lst[1:4]"
   ]
  },
  {
   "cell_type": "code",
   "execution_count": 16,
   "id": "a56e25ee",
   "metadata": {},
   "outputs": [
    {
     "name": "stdout",
     "output_type": "stream",
     "text": [
      "['parachikapu', '19', 'CSE']\n"
     ]
    }
   ],
   "source": [
    "#printing the updated list\n",
    "print(list)"
   ]
  },
  {
   "cell_type": "code",
   "execution_count": 17,
   "id": "1de9cbf0",
   "metadata": {},
   "outputs": [
    {
     "name": "stdout",
     "output_type": "stream",
     "text": [
      "['CSE', '19', 'parachikapu', 'kshownish']\n"
     ]
    }
   ],
   "source": [
    "#printing the list in reverse\n",
    "print(lst[::-1])"
   ]
  },
  {
   "cell_type": "code",
   "execution_count": 18,
   "id": "cf16c150",
   "metadata": {},
   "outputs": [],
   "source": [
    "#appending the list\n",
    "lst.append('mintu')"
   ]
  },
  {
   "cell_type": "code",
   "execution_count": 19,
   "id": "68a63cb4",
   "metadata": {},
   "outputs": [
    {
     "name": "stdout",
     "output_type": "stream",
     "text": [
      "['kshownish', 'parachikapu', '19', 'CSE', 'mintu']\n"
     ]
    }
   ],
   "source": [
    "#printing the updated list\n",
    "print(lst)"
   ]
  },
  {
   "cell_type": "code",
   "execution_count": 20,
   "id": "12d7e7ca",
   "metadata": {},
   "outputs": [],
   "source": [
    "#removing element from the list\n",
    "lst.remove(\"mintu\")"
   ]
  },
  {
   "cell_type": "code",
   "execution_count": 21,
   "id": "a31865da",
   "metadata": {},
   "outputs": [
    {
     "name": "stdout",
     "output_type": "stream",
     "text": [
      "['kshownish', 'parachikapu', '19', 'CSE']\n"
     ]
    }
   ],
   "source": [
    "#printing the updated list\n",
    "print(lst)"
   ]
  },
  {
   "cell_type": "code",
   "execution_count": 22,
   "id": "4247d3f6",
   "metadata": {},
   "outputs": [
    {
     "name": "stdout",
     "output_type": "stream",
     "text": [
      "4\n"
     ]
    }
   ],
   "source": [
    "#finding the length of list\n",
    "print(len(lst))"
   ]
  },
  {
   "cell_type": "code",
   "execution_count": 8,
   "id": "0519ef5e",
   "metadata": {},
   "outputs": [],
   "source": [
    "#creating a new list\n",
    "nums = [1,3,4,5,2,7,8]"
   ]
  },
  {
   "cell_type": "code",
   "execution_count": 9,
   "id": "c1853870",
   "metadata": {},
   "outputs": [
    {
     "name": "stdout",
     "output_type": "stream",
     "text": [
      "[8, 7, 2, 5, 4, 3, 1]\n"
     ]
    }
   ],
   "source": [
    "#reversing the list\n",
    "print(nums[::-1])"
   ]
  },
  {
   "cell_type": "code",
   "execution_count": 10,
   "id": "c43ccb7e",
   "metadata": {},
   "outputs": [
    {
     "data": {
      "text/plain": [
       "1"
      ]
     },
     "execution_count": 10,
     "metadata": {},
     "output_type": "execute_result"
    }
   ],
   "source": [
    "#finding the index of specific element\n",
    "nums.index(3)"
   ]
  },
  {
   "cell_type": "code",
   "execution_count": 11,
   "id": "4555e68e",
   "metadata": {},
   "outputs": [],
   "source": [
    "#extending the list\n",
    "nums.extend([10,9,6])"
   ]
  },
  {
   "cell_type": "code",
   "execution_count": 12,
   "id": "e9984bff",
   "metadata": {},
   "outputs": [
    {
     "name": "stdout",
     "output_type": "stream",
     "text": [
      "[1, 3, 4, 5, 2, 7, 8, 10, 9, 6]\n"
     ]
    }
   ],
   "source": [
    "#printing the updated list\n",
    "print(nums)"
   ]
  },
  {
   "cell_type": "code",
   "execution_count": 13,
   "id": "589a9b06",
   "metadata": {},
   "outputs": [
    {
     "name": "stdout",
     "output_type": "stream",
     "text": [
      "1\n"
     ]
    }
   ],
   "source": [
    "#printing minimum element from list\n",
    "print(min(nums))"
   ]
  },
  {
   "cell_type": "code",
   "execution_count": 14,
   "id": "a3b89806",
   "metadata": {},
   "outputs": [
    {
     "name": "stdout",
     "output_type": "stream",
     "text": [
      "1\n",
      "3\n",
      "4\n",
      "5\n",
      "2\n",
      "7\n",
      "8\n"
     ]
    }
   ],
   "source": [
    "#printing each element from list\n",
    "for i in num:\n",
    "    print(i)"
   ]
  },
  {
   "cell_type": "code",
   "execution_count": 34,
   "id": "4b95ae9c",
   "metadata": {},
   "outputs": [
    {
     "name": "stdout",
     "output_type": "stream",
     "text": [
      "1\n",
      "3\n",
      "4\n",
      "5\n",
      "2\n",
      "7\n",
      "8\n",
      "10\n",
      "9\n",
      "6\n"
     ]
    }
   ],
   "source": [
    "for i in range(len(num)):\n",
    "    print(num[i])"
   ]
  },
  {
   "cell_type": "code",
   "execution_count": null,
   "id": "b3fbb67f",
   "metadata": {},
   "outputs": [],
   "source": []
  }
 ],
 "metadata": {
  "kernelspec": {
   "display_name": "Python 3 (ipykernel)",
   "language": "python",
   "name": "python3"
  },
  "language_info": {
   "codemirror_mode": {
    "name": "ipython",
    "version": 3
   },
   "file_extension": ".py",
   "mimetype": "text/x-python",
   "name": "python",
   "nbconvert_exporter": "python",
   "pygments_lexer": "ipython3",
   "version": "3.9.12"
  }
 },
 "nbformat": 4,
 "nbformat_minor": 5
}
